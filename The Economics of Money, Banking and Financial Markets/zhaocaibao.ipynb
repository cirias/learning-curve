{
 "cells": [
  {
   "cell_type": "code",
   "execution_count": 1,
   "metadata": {
    "collapsed": false,
    "scrolled": true
   },
   "outputs": [
    {
     "data": {
      "text/latex": [
       "$$\\frac{FV}{PV} - 1$$"
      ],
      "text/plain": [
       "FV    \n",
       "── - 1\n",
       "PV    "
      ]
     },
     "execution_count": 1,
     "metadata": {},
     "output_type": "execute_result"
    }
   ],
   "source": [
    "from sympy import *\n",
    "init_printing(use_latex='mathjax')\n",
    "\n",
    "pv, fv = symbols(\"PV FV\")\n",
    "\n",
    "ror = fv / pv - 1\n",
    "ror\n"
   ]
  },
  {
   "cell_type": "code",
   "execution_count": 2,
   "metadata": {
    "collapsed": false
   },
   "outputs": [
    {
     "data": {
      "text/latex": [
       "$$\\frac{PV}{Bpr + 1} \\left(- Fr + 1\\right) \\left(Lpr + 1\\right)$$"
      ],
      "text/plain": [
       "PV⋅(-Fr + 1)⋅(Lpr + 1)\n",
       "──────────────────────\n",
       "       Bpr + 1        "
      ]
     },
     "execution_count": 2,
     "metadata": {},
     "output_type": "execute_result"
    }
   ],
   "source": [
    "lpr, bpr, fr = symbols(\"Lpr Bpr Fr\")\n",
    "\n",
    "fvexpr = pv * (1 + lpr) / (1 + bpr) * (1 - fr)\n",
    "fvexpr"
   ]
  },
  {
   "cell_type": "code",
   "execution_count": 3,
   "metadata": {
    "collapsed": false
   },
   "outputs": [
    {
     "data": {
      "text/latex": [
       "$$-1 + \\frac{1}{Bpr + 1} \\left(- Fr + 1\\right) \\left(Lpr + 1\\right)$$"
      ],
      "text/plain": [
       "     (-Fr + 1)⋅(Lpr + 1)\n",
       "-1 + ───────────────────\n",
       "           Bpr + 1      "
      ]
     },
     "execution_count": 3,
     "metadata": {},
     "output_type": "execute_result"
    }
   ],
   "source": [
    "ror = ror.subs(fv, fvexpr)\n",
    "ror"
   ]
  },
  {
   "cell_type": "code",
   "execution_count": 4,
   "metadata": {
    "collapsed": false
   },
   "outputs": [
    {
     "data": {
      "text/latex": [
       "$$\\frac{\\left(- Fr + 1\\right) \\left(\\frac{Lp Lr}{365} + 1\\right)}{\\frac{Bp Br}{365} + 1} - 1$$"
      ],
      "text/plain": [
       "          ⎛Lp⋅Lr    ⎞    \n",
       "(-Fr + 1)⋅⎜───── + 1⎟    \n",
       "          ⎝ 365     ⎠    \n",
       "───────────────────── - 1\n",
       "      Bp⋅Br              \n",
       "      ───── + 1          \n",
       "       365               "
      ]
     },
     "execution_count": 4,
     "metadata": {},
     "output_type": "execute_result"
    }
   ],
   "source": [
    "lr, br, lp, bp = symbols(\"Lr Br Lp Bp\")\n",
    "\n",
    "ror = ror.subs(lpr, lr * lp / 365) \\\n",
    "         .subs(bpr, br * bp / 365)\n",
    "ror"
   ]
  },
  {
   "cell_type": "code",
   "execution_count": 5,
   "metadata": {
    "collapsed": false
   },
   "outputs": [
    {
     "data": {
      "text/latex": [
       "$$\\frac{1}{- Bp + Lp} \\left(\\frac{365}{\\frac{Bp Br}{365} + 1} \\left(- Fr + 1\\right) \\left(\\frac{Lp Lr}{365} + 1\\right) - 365\\right)$$"
      ],
      "text/plain": [
       "    ⎛          ⎛Lp⋅Lr    ⎞    ⎞\n",
       "    ⎜(-Fr + 1)⋅⎜───── + 1⎟    ⎟\n",
       "    ⎜          ⎝ 365     ⎠    ⎟\n",
       "365⋅⎜───────────────────── - 1⎟\n",
       "    ⎜      Bp⋅Br              ⎟\n",
       "    ⎜      ───── + 1          ⎟\n",
       "    ⎝       365               ⎠\n",
       "───────────────────────────────\n",
       "            -Bp + Lp           "
      ]
     },
     "execution_count": 5,
     "metadata": {},
     "output_type": "execute_result"
    }
   ],
   "source": [
    "roy = ror / (lp - bp) * 365\n",
    "roy"
   ]
  },
  {
   "cell_type": "code",
   "execution_count": 6,
   "metadata": {
    "collapsed": false
   },
   "outputs": [
    {
     "data": {
      "text/latex": [
       "$$0.0828645650014743$$"
      ],
      "text/plain": [
       "0.0828645650014743"
      ]
     },
     "execution_count": 6,
     "metadata": {},
     "output_type": "execute_result"
    }
   ],
   "source": [
    "roy.subs(lr, 0.0646) \\\n",
    "    .subs(br, 0.0408) \\\n",
    "    .subs(lp, 356) \\\n",
    "    .subs(bp, 180) \\\n",
    "    .subs(fr, 0.002)"
   ]
  },
  {
   "cell_type": "code",
   "execution_count": 9,
   "metadata": {
    "collapsed": false
   },
   "outputs": [
    {
     "data": {
      "text/latex": [
       "$$\\left [ 0.0622645228851519\\right ]$$"
      ],
      "text/plain": [
       "[0.0622645228851519]"
      ]
     },
     "execution_count": 9,
     "metadata": {},
     "output_type": "execute_result"
    }
   ],
   "source": [
    "solve(Eq(roy.subs(fr, 0.002).subs(lr, 0.0646).subs(lp, 356).subs(bp, 347), 0.0646), br)"
   ]
  },
  {
   "cell_type": "code",
   "execution_count": null,
   "metadata": {
    "collapsed": true
   },
   "outputs": [],
   "source": []
  }
 ],
 "metadata": {
  "kernelspec": {
   "display_name": "Python 2",
   "language": "python",
   "name": "python2"
  },
  "language_info": {
   "codemirror_mode": {
    "name": "ipython",
    "version": 2
   },
   "file_extension": ".py",
   "mimetype": "text/x-python",
   "name": "python",
   "nbconvert_exporter": "python",
   "pygments_lexer": "ipython2",
   "version": "2.7.6"
  }
 },
 "nbformat": 4,
 "nbformat_minor": 0
}
